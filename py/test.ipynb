{
 "cells": [
  {
   "cell_type": "code",
   "execution_count": 3,
   "id": "206eea63",
   "metadata": {},
   "outputs": [],
   "source": [
    "import pandas as pd\n",
    "import numpy as np"
   ]
  },
  {
   "cell_type": "code",
   "execution_count": 4,
   "id": "32d87aa3",
   "metadata": {},
   "outputs": [],
   "source": [
    "# Import .csv desde drive\n",
    "df = pd.read_csv('weatherAUS.csv')"
   ]
  },
  {
   "cell_type": "code",
   "execution_count": 5,
   "id": "9adbfb76",
   "metadata": {},
   "outputs": [
    {
     "name": "stdout",
     "output_type": "stream",
     "text": [
      "Hay 142193 filas y 24 columnas\n"
     ]
    }
   ],
   "source": [
    "## contar filas y columnas\n",
    "filas, columnas = df.shape\n",
    "print(f'Hay {filas} filas y {columnas} columnas')\n"
   ]
  },
  {
   "cell_type": "code",
   "execution_count": 6,
   "id": "524d8848",
   "metadata": {},
   "outputs": [
    {
     "data": {
      "text/plain": [
       "Index(['Date', 'Location', 'MinTemp', 'MaxTemp', 'Rainfall', 'Evaporation',\n",
       "       'Sunshine', 'WindGustDir', 'WindGustSpeed', 'WindDir9am', 'WindDir3pm',\n",
       "       'WindSpeed9am', 'WindSpeed3pm', 'Humidity9am', 'Humidity3pm',\n",
       "       'Pressure9am', 'Pressure3pm', 'Cloud9am', 'Cloud3pm', 'Temp9am',\n",
       "       'Temp3pm', 'RainToday', 'RISK_MM', 'RainTomorrow'],\n",
       "      dtype='object')"
      ]
     },
     "execution_count": 6,
     "metadata": {},
     "output_type": "execute_result"
    }
   ],
   "source": [
    "# ver nombres de las columnas\n",
    "nombre_columnas = df.columns\n",
    "nombre_columnas"
   ]
  },
  {
   "cell_type": "code",
   "execution_count": 7,
   "id": "55d0a910",
   "metadata": {},
   "outputs": [
    {
     "name": "stdout",
     "output_type": "stream",
     "text": [
      "<class 'pandas.core.frame.DataFrame'>\n",
      "RangeIndex: 142193 entries, 0 to 142192\n",
      "Data columns (total 24 columns):\n",
      " #   Column         Non-Null Count   Dtype  \n",
      "---  ------         --------------   -----  \n",
      " 0   Date           142193 non-null  object \n",
      " 1   Location       142193 non-null  object \n",
      " 2   MinTemp        141556 non-null  float64\n",
      " 3   MaxTemp        141871 non-null  float64\n",
      " 4   Rainfall       140787 non-null  float64\n",
      " 5   Evaporation    81350 non-null   float64\n",
      " 6   Sunshine       74377 non-null   float64\n",
      " 7   WindGustDir    132863 non-null  object \n",
      " 8   WindGustSpeed  132923 non-null  float64\n",
      " 9   WindDir9am     132180 non-null  object \n",
      " 10  WindDir3pm     138415 non-null  object \n",
      " 11  WindSpeed9am   140845 non-null  float64\n",
      " 12  WindSpeed3pm   139563 non-null  float64\n",
      " 13  Humidity9am    140419 non-null  float64\n",
      " 14  Humidity3pm    138583 non-null  float64\n",
      " 15  Pressure9am    128179 non-null  float64\n",
      " 16  Pressure3pm    128212 non-null  float64\n",
      " 17  Cloud9am       88536 non-null   float64\n",
      " 18  Cloud3pm       85099 non-null   float64\n",
      " 19  Temp9am        141289 non-null  float64\n",
      " 20  Temp3pm        139467 non-null  float64\n",
      " 21  RainToday      140787 non-null  object \n",
      " 22  RISK_MM        142193 non-null  float64\n",
      " 23  RainTomorrow   142193 non-null  object \n",
      "dtypes: float64(17), object(7)\n",
      "memory usage: 26.0+ MB\n"
     ]
    }
   ],
   "source": [
    "# averiguar datatype de las columnas\n",
    "df.info()\n",
    "\n",
    "# nota:\n",
    "# 'date' es object (para panda object === string)"
   ]
  },
  {
   "cell_type": "code",
   "execution_count": 8,
   "id": "a7983ed7",
   "metadata": {},
   "outputs": [
    {
     "data": {
      "text/plain": [
       "Date                 0\n",
       "Location             0\n",
       "MinTemp            637\n",
       "MaxTemp            322\n",
       "Rainfall          1406\n",
       "Evaporation      60843\n",
       "Sunshine         67816\n",
       "WindGustDir       9330\n",
       "WindGustSpeed     9270\n",
       "WindDir9am       10013\n",
       "WindDir3pm        3778\n",
       "WindSpeed9am      1348\n",
       "WindSpeed3pm      2630\n",
       "Humidity9am       1774\n",
       "Humidity3pm       3610\n",
       "Pressure9am      14014\n",
       "Pressure3pm      13981\n",
       "Cloud9am         53657\n",
       "Cloud3pm         57094\n",
       "Temp9am            904\n",
       "Temp3pm           2726\n",
       "RainToday         1406\n",
       "RISK_MM              0\n",
       "RainTomorrow         0\n",
       "dtype: int64"
      ]
     },
     "execution_count": 8,
     "metadata": {},
     "output_type": "execute_result"
    }
   ],
   "source": [
    "# averiguar cantidad de datos nulos\n",
    "df.isnull().sum()"
   ]
  },
  {
   "cell_type": "code",
   "execution_count": null,
   "id": "ee807162",
   "metadata": {},
   "outputs": [],
   "source": [
    "# preview del dataset\n",
    "df.head()"
   ]
  },
  {
   "cell_type": "code",
   "execution_count": null,
   "id": "fb4f06a4",
   "metadata": {},
   "outputs": [],
   "source": [
    "# resumen estadistico\n",
    "df.describe()"
   ]
  },
  {
   "cell_type": "code",
   "execution_count": null,
   "id": "7b8cecab",
   "metadata": {},
   "outputs": [],
   "source": [
    "# parsear fecha 'date' (de object/string a date)\n",
    "df['Date'] = pd.to_datetime(df['Date'])\n",
    "\n",
    "# insertar nueva columna \"año\" al df\n",
    "df['Year'] = df['Date'].dt.year\n",
    "\n",
    "df['Year'].head() # ver qe tipo sea int64\n",
    "\n",
    "# guardar df en variable year\n",
    "# year = df\n",
    "\n",
    "## extraer año de columna \"date\" + inserción en dataframe\n",
    "# year['Year'] = pd.DatetimeIndex(df['Date']).year"
   ]
  },
  {
   "cell_type": "code",
   "execution_count": null,
   "id": "564ef877",
   "metadata": {},
   "outputs": [],
   "source": [
    "# fecha minima y fecha maxima del dataset\n",
    "df_fechas = df.agg(Fecha_Mínima=('Date',np.min),Fecha_maxima=('Date',np.max))\n",
    "df_fechas\n",
    "\n",
    "## 01 Nov 2007\n",
    "## 25 Junio 2017\n",
    "## Rango analizable >> 01 Nov 2007 - 01 Noviembre 2016"
   ]
  },
  {
   "cell_type": "code",
   "execution_count": null,
   "id": "e308c86b",
   "metadata": {},
   "outputs": [],
   "source": [
    "df_rango = df.set_index(['Date'])\n",
    "df_rango.loc['2007-11-01':'2016-11-01'] # funca \n",
    "# https://pandas.pydata.org/docs/reference/api/pandas.DataFrame.loc.html\n",
    "# https://stackoverflow.com/questions/29370057/select-dataframe-rows-between-two-dates "
   ]
  },
  {
   "cell_type": "code",
   "execution_count": null,
   "id": "260b1112",
   "metadata": {},
   "outputs": [],
   "source": [
    "# DataFrame solo con fechas de rango analizable\n",
    "#rango = pd.date_range(start='2007-11-01',end='2017-11-01') #,inclusive=\"both\")\n",
    "#df_rango = df.set_index(['Date'])\n",
    "#df_rango.loc['2007-11-01':'2017-11-01'] # funca \n",
    "# https://pandas.pydata.org/docs/reference/api/pandas.DataFrame.loc.html\n",
    "\n",
    "# rango_analizable = df[rango]\n",
    "\n",
    "#rango_analizable = df[df.Date.isin.indexer_between_time('2007-11-01','2017-11-01')]\n",
    "#rango_analizable = df[df.Date.indexer_between_time('2007-11-01','2017-11-01')]\n",
    "#rango_analizable = df[df.Date.indexer_between_time(rango)]\n",
    "#rango_analizable = df[df.Date.isin([pd.date_range(start='2007-11-01',end='2017-11-01')])]\n",
    "#rango_analizable"
   ]
  },
  {
   "cell_type": "code",
   "execution_count": null,
   "id": "d0bfab03",
   "metadata": {},
   "outputs": [],
   "source": [
    "#fecha_minima = '2007-11-01'\n",
    "#fecha_maxima = 2007-11-20\n",
    "#rango_df = df[df.Date.isin(2007-11-01)] #&df.Date.isin(fecha_maxima)]\n",
    "#rango_df"
   ]
  },
  {
   "cell_type": "code",
   "execution_count": null,
   "id": "d04eff0d",
   "metadata": {},
   "outputs": [],
   "source": [
    "\n",
    "#year_temp = df_rango.groupby(['Year'])[['MaxTemp','Year']].max()\n",
    "year = df_rango.groupby(['Year'])\n",
    "# year\n",
    "## creación df\n",
    "#year = year.groupby(['Year'])[['MaxTemp','MinTemp','Year']].mean()\n",
    "#year"
   ]
  },
  {
   "cell_type": "code",
   "execution_count": null,
   "id": "68504b97",
   "metadata": {},
   "outputs": [],
   "source": [
    "year_temp = year[['MaxTemp']].max() #.max()\n",
    "year_temp"
   ]
  },
  {
   "cell_type": "code",
   "execution_count": null,
   "id": "a1d856ca",
   "metadata": {},
   "outputs": [],
   "source": [
    "year_temp = year[['MaxTemp','Year']].max() #.max()\n",
    "# year_temp\n",
    "year_temp.plot(x='Year',y='MaxTemp')"
   ]
  },
  {
   "cell_type": "code",
   "execution_count": null,
   "id": "b32bfa10",
   "metadata": {},
   "outputs": [],
   "source": [
    "# x trimestre\n",
    "## extract\n",
    "#quarter = df\n",
    "#quarter['Trimestre'] = pd.DatetimeIndex(df['Date']).quarter"
   ]
  },
  {
   "cell_type": "code",
   "execution_count": null,
   "id": "acf2dfbe",
   "metadata": {},
   "outputs": [],
   "source": [
    "# df.MaxTemp.plot.kde()"
   ]
  },
  {
   "cell_type": "code",
   "execution_count": null,
   "id": "34e26445",
   "metadata": {},
   "outputs": [],
   "source": [
    "df.sort_values"
   ]
  },
  {
   "cell_type": "code",
   "execution_count": null,
   "id": "7f71f879",
   "metadata": {},
   "outputs": [],
   "source": [
    "#year_lluvia = year[['Rainfall','Year']].sum() \n",
    "year_lluvia = year[['Rainfall']].sum() \n",
    "\n",
    "year_lluvia.plot(y='Rainfall')"
   ]
  },
  {
   "cell_type": "code",
   "execution_count": null,
   "id": "1a226edb",
   "metadata": {},
   "outputs": [],
   "source": [
    "df[['Rainfall']]\n",
    "#hola"
   ]
  }
 ],
 "metadata": {
  "kernelspec": {
   "display_name": "Python 3 (ipykernel)",
   "language": "python",
   "name": "python3"
  },
  "language_info": {
   "codemirror_mode": {
    "name": "ipython",
    "version": 3
   },
   "file_extension": ".py",
   "mimetype": "text/x-python",
   "name": "python",
   "nbconvert_exporter": "python",
   "pygments_lexer": "ipython3",
   "version": "3.9.12"
  }
 },
 "nbformat": 4,
 "nbformat_minor": 5
}
